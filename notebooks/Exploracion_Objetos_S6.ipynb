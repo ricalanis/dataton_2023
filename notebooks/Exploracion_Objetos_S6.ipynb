{
  "nbformat": 4,
  "nbformat_minor": 0,
  "metadata": {
    "colab": {
      "provenance": []
    },
    "kernelspec": {
      "name": "python3",
      "display_name": "Python 3"
    },
    "language_info": {
      "name": "python"
    }
  },
  "cells": [
    {
      "cell_type": "code",
      "execution_count": 31,
      "metadata": {
        "id": "4784v7H3uDaO"
      },
      "outputs": [],
      "source": [
        "base_directory = \"/content/drive/MyDrive/Dataton Anticorrupción 2023\""
      ]
    },
    {
      "cell_type": "code",
      "source": [
        "import json"
      ],
      "metadata": {
        "id": "3rvdlzs1uXeO"
      },
      "execution_count": 45,
      "outputs": []
    },
    {
      "cell_type": "code",
      "source": [
        "objeto_sistema6 = json.load(open(\"dato_ejemplo.json\", \"rb\"))"
      ],
      "metadata": {
        "id": "_ghLE8yBve1L"
      },
      "execution_count": 46,
      "outputs": []
    },
    {
      "cell_type": "code",
      "source": [
        "objeto_sistema6.keys()"
      ],
      "metadata": {
        "colab": {
          "base_uri": "https://localhost:8080/"
        },
        "id": "0yIhzuLAvpVC",
        "outputId": "523de723-d0e6-4a14-e86c-6d576716eff3"
      },
      "execution_count": 47,
      "outputs": [
        {
          "output_type": "execute_result",
          "data": {
            "text/plain": [
              "dict_keys(['_id', 'awards', 'buyer', 'contracts', 'cycle', 'date', 'id', 'initiationType', 'language', 'ocid', 'parties', 'publisher', 'tag', 'tender'])"
            ]
          },
          "metadata": {},
          "execution_count": 47
        }
      ]
    },
    {
      "cell_type": "code",
      "source": [
        "objeto_sistema6[\"awards\"]"
      ],
      "metadata": {
        "colab": {
          "base_uri": "https://localhost:8080/"
        },
        "id": "nSSuTaKdw87m",
        "outputId": "2731d9c8-b5c9-4e9f-f2be-008a20bf038a"
      },
      "execution_count": 48,
      "outputs": [
        {
          "output_type": "execute_result",
          "data": {
            "text/plain": [
              "[{'description': 'Materiales y utiles de oficina',\n",
              "  'id': 12932,\n",
              "  'items': [{'classification': {'description': 'Blocs o cuadernos de papel ',\n",
              "     'id': '14111514',\n",
              "     'scheme': 'UNSPSC: El CÃ³digo estÃ¡ndar de productos y servicios de las Naciones Unidas',\n",
              "     'uri': 'https://www.unspsc.org/search-code'},\n",
              "    'description': 'CUADERNOS FORMA FRANCESA RAYADO DE 96 HASTA 100 HOJAS MEDIDAS +/-16 X 21.5 CM +/- 1 CM',\n",
              "    'id': 65564,\n",
              "    'quantity': 8,\n",
              "    'unit': {'name': 'PIEZA', 'value': {'amount': 15.17, 'currency': 'MNX'}}}],\n",
              "  'suppliers': [{'id': 'PM_NAL2019_0000012',\n",
              "    'name': 'FARVISAN INSUMOS INSTITUCIONALES SA DE CV'}],\n",
              "  'title': 'CONTRATO MARCO PARA EL SUMINISTRO Y ENTREGA EN SITIO DE ARTÍCULOS DE OFICINA; PRODUCTOS PARA SERVICIO DE CAFETERÍA; ASÍ COMO CONSUMIBLES Y ACCESORIOS INFORMÁTICOS',\n",
              "  'value': {'amount': 140.78, 'currency': 'MXN'}}]"
            ]
          },
          "metadata": {},
          "execution_count": 48
        }
      ]
    },
    {
      "cell_type": "code",
      "source": [
        "objeto_sistema6[\"awards\"][0][\"items\"]"
      ],
      "metadata": {
        "colab": {
          "base_uri": "https://localhost:8080/"
        },
        "id": "yT1tDgfov42K",
        "outputId": "f34b89c5-e392-4314-f541-67cc962fd74c"
      },
      "execution_count": 49,
      "outputs": [
        {
          "output_type": "execute_result",
          "data": {
            "text/plain": [
              "[{'classification': {'description': 'Blocs o cuadernos de papel ',\n",
              "   'id': '14111514',\n",
              "   'scheme': 'UNSPSC: El CÃ³digo estÃ¡ndar de productos y servicios de las Naciones Unidas',\n",
              "   'uri': 'https://www.unspsc.org/search-code'},\n",
              "  'description': 'CUADERNOS FORMA FRANCESA RAYADO DE 96 HASTA 100 HOJAS MEDIDAS +/-16 X 21.5 CM +/- 1 CM',\n",
              "  'id': 65564,\n",
              "  'quantity': 8,\n",
              "  'unit': {'name': 'PIEZA', 'value': {'amount': 15.17, 'currency': 'MNX'}}}]"
            ]
          },
          "metadata": {},
          "execution_count": 49
        }
      ]
    },
    {
      "cell_type": "code",
      "source": [
        "objeto_sistema6[\"awards\"][0][\"items\"]"
      ],
      "metadata": {
        "id": "AWnXh2db1nyd",
        "outputId": "5b00e71f-4a5a-4ee4-a56a-f2043bf3b051",
        "colab": {
          "base_uri": "https://localhost:8080/"
        }
      },
      "execution_count": 50,
      "outputs": [
        {
          "output_type": "execute_result",
          "data": {
            "text/plain": [
              "[{'classification': {'description': 'Blocs o cuadernos de papel ',\n",
              "   'id': '14111514',\n",
              "   'scheme': 'UNSPSC: El CÃ³digo estÃ¡ndar de productos y servicios de las Naciones Unidas',\n",
              "   'uri': 'https://www.unspsc.org/search-code'},\n",
              "  'description': 'CUADERNOS FORMA FRANCESA RAYADO DE 96 HASTA 100 HOJAS MEDIDAS +/-16 X 21.5 CM +/- 1 CM',\n",
              "  'id': 65564,\n",
              "  'quantity': 8,\n",
              "  'unit': {'name': 'PIEZA', 'value': {'amount': 15.17, 'currency': 'MNX'}}}]"
            ]
          },
          "metadata": {},
          "execution_count": 50
        }
      ]
    },
    {
      "cell_type": "code",
      "source": [
        "objeto_sistema6[\"awards\"][0][\"items\"][0][\"unit\"][\"value\"]"
      ],
      "metadata": {
        "colab": {
          "base_uri": "https://localhost:8080/"
        },
        "id": "rV2r3QSWvqVW",
        "outputId": "4c2e5cfd-7136-40cb-a1a0-8169fe6ade42"
      },
      "execution_count": 51,
      "outputs": [
        {
          "output_type": "execute_result",
          "data": {
            "text/plain": [
              "{'amount': 15.17, 'currency': 'MNX'}"
            ]
          },
          "metadata": {},
          "execution_count": 51
        }
      ]
    },
    {
      "cell_type": "code",
      "source": [
        "objeto_sistema6.keys()"
      ],
      "metadata": {
        "id": "fcETHyHVv2CW",
        "colab": {
          "base_uri": "https://localhost:8080/"
        },
        "outputId": "7fbd3cd6-f49b-4e5c-acb0-f15d241c33a5"
      },
      "execution_count": 52,
      "outputs": [
        {
          "output_type": "execute_result",
          "data": {
            "text/plain": [
              "dict_keys(['_id', 'awards', 'buyer', 'contracts', 'cycle', 'date', 'id', 'initiationType', 'language', 'ocid', 'parties', 'publisher', 'tag', 'tender'])"
            ]
          },
          "metadata": {},
          "execution_count": 52
        }
      ]
    },
    {
      "cell_type": "code",
      "source": [
        "objeto_sistema6[\"awards\"]"
      ],
      "metadata": {
        "colab": {
          "base_uri": "https://localhost:8080/"
        },
        "id": "F1ATvP-06XnG",
        "outputId": "9f5f6fa4-f694-493e-a71b-e741eb6e8fe1"
      },
      "execution_count": 53,
      "outputs": [
        {
          "output_type": "execute_result",
          "data": {
            "text/plain": [
              "[{'description': 'Materiales y utiles de oficina',\n",
              "  'id': 12932,\n",
              "  'items': [{'classification': {'description': 'Blocs o cuadernos de papel ',\n",
              "     'id': '14111514',\n",
              "     'scheme': 'UNSPSC: El CÃ³digo estÃ¡ndar de productos y servicios de las Naciones Unidas',\n",
              "     'uri': 'https://www.unspsc.org/search-code'},\n",
              "    'description': 'CUADERNOS FORMA FRANCESA RAYADO DE 96 HASTA 100 HOJAS MEDIDAS +/-16 X 21.5 CM +/- 1 CM',\n",
              "    'id': 65564,\n",
              "    'quantity': 8,\n",
              "    'unit': {'name': 'PIEZA', 'value': {'amount': 15.17, 'currency': 'MNX'}}}],\n",
              "  'suppliers': [{'id': 'PM_NAL2019_0000012',\n",
              "    'name': 'FARVISAN INSUMOS INSTITUCIONALES SA DE CV'}],\n",
              "  'title': 'CONTRATO MARCO PARA EL SUMINISTRO Y ENTREGA EN SITIO DE ARTÍCULOS DE OFICINA; PRODUCTOS PARA SERVICIO DE CAFETERÍA; ASÍ COMO CONSUMIBLES Y ACCESORIOS INFORMÁTICOS',\n",
              "  'value': {'amount': 140.78, 'currency': 'MXN'}}]"
            ]
          },
          "metadata": {},
          "execution_count": 53
        }
      ]
    },
    {
      "cell_type": "code",
      "source": [
        "def get_contract_items(contract):\n",
        "  output = []\n",
        "  if \"awards\" in contract:\n",
        "    for award in contract[\"awards\"]:\n",
        "      if \"items\" in award:\n",
        "        return award[\"items\"]\n",
        "  return output"
      ],
      "metadata": {
        "id": "14Il1bKmB-dj"
      },
      "execution_count": 63,
      "outputs": []
    },
    {
      "cell_type": "code",
      "source": [
        "get_contract_items(objeto_sistema6)"
      ],
      "metadata": {
        "colab": {
          "base_uri": "https://localhost:8080/"
        },
        "id": "JJnYPdhsbNbF",
        "outputId": "9e5bf980-198f-4def-d001-63db2bee3c2d"
      },
      "execution_count": 64,
      "outputs": [
        {
          "output_type": "execute_result",
          "data": {
            "text/plain": [
              "[{'classification': {'description': 'Blocs o cuadernos de papel ',\n",
              "   'id': '14111514',\n",
              "   'scheme': 'UNSPSC: El CÃ³digo estÃ¡ndar de productos y servicios de las Naciones Unidas',\n",
              "   'uri': 'https://www.unspsc.org/search-code'},\n",
              "  'description': 'CUADERNOS FORMA FRANCESA RAYADO DE 96 HASTA 100 HOJAS MEDIDAS +/-16 X 21.5 CM +/- 1 CM',\n",
              "  'id': 65564,\n",
              "  'quantity': 8,\n",
              "  'unit': {'name': 'PIEZA', 'value': {'amount': 15.17, 'currency': 'MNX'}}}]"
            ]
          },
          "metadata": {},
          "execution_count": 64
        }
      ]
    },
    {
      "cell_type": "code",
      "source": [
        "def extract_names(data):\n",
        "    person_names = []\n",
        "    company_names = []\n",
        "\n",
        "    # Buscar en 'parties' para nombres de personas y empresas\n",
        "    for party in data.get('parties', []):\n",
        "        company_names.append(party.get('name', ''))\n",
        "        person_name = party.get('contactPoint', {}).get('name', '')\n",
        "        if person_name:\n",
        "            person_names.append(person_name)\n",
        "\n",
        "    # Buscar en 'awards' para nombres de empresas\n",
        "    for award in data.get('awards', []):\n",
        "        for supplier in award.get('suppliers', []):\n",
        "            company_names.append(supplier.get('name', ''))\n",
        "\n",
        "    # Buscar en 'tenderers' para nombres de empresas\n",
        "    for tender in data.get('tender', {}).get('tenderers', []):\n",
        "        company_names.append(tender.get('name', ''))\n",
        "\n",
        "    # Buscar en 'buyer' para el nombre de la empresa\n",
        "    buyer_name = data.get('buyer', {}).get('name', '')\n",
        "    if buyer_name:\n",
        "        company_names.append(buyer_name)\n",
        "\n",
        "    return {\"people\": person_names, \"companies/organizations\": company_names}"
      ],
      "metadata": {
        "id": "pEmKRPPUZGu6"
      },
      "execution_count": 68,
      "outputs": []
    },
    {
      "cell_type": "code",
      "source": [
        "extract_names(objeto_sistema6)"
      ],
      "metadata": {
        "colab": {
          "base_uri": "https://localhost:8080/"
        },
        "id": "MVXZwQSCyhr2",
        "outputId": "a3313699-073c-4ef7-f95a-dcea60776d2e"
      },
      "execution_count": 69,
      "outputs": [
        {
          "output_type": "execute_result",
          "data": {
            "text/plain": [
              "{'people': ['RODRIGO RAFAEL PÉREZ CANO',\n",
              "  'HELENA ALMENDRA CHONG DE LA ROSA',\n",
              "  'arturo villanueva sanroman'],\n",
              " 'companies/organizations': ['SECRETARÍA DE HACIENDA Y CRÉDITO PÚBLICO',\n",
              "  'DIRECCIÓN GENERAL DE RECURSOS MATERIALES, OBRA PÚBLICA\\xa0Y SERVICIOS GENERALES',\n",
              "  'FARVISAN INSUMOS INSTITUCIONALES SA DE CV',\n",
              "  'FARVISAN INSUMOS INSTITUCIONALES SA DE CV',\n",
              "  'INTEGRA MARKET & SERVICES SA DE CV',\n",
              "  'BALANDRANO INK SA DE CV',\n",
              "  'INTEGRACION CORPORATIVA PARA LA INDUSTRIA Y COMERCIO SA DE CV',\n",
              "  'FORMAS EFICIENTES SA DE CV',\n",
              "  'SOLUCIONES EN HARDWARE INTELIGENTE SA DE CV',\n",
              "  'GASTELUM IX SA DE CV',\n",
              "  'GRUPO COMERCIAL DAMAG SA DE CV',\n",
              "  'DISTRIBUIDORA SAJOR SA DE CV',\n",
              "  'FARVISAN INSUMOS INSTITUCIONALES SA DE CV',\n",
              "  'CICOVISA SA DE CV',\n",
              "  'SECRETARÍA DE HACIENDA Y CRÉDITO PÚBLICO']}"
            ]
          },
          "metadata": {},
          "execution_count": 69
        }
      ]
    },
    {
      "cell_type": "code",
      "source": [
        "output_data = {\"items\": get_contract_items(objeto_sistema6), \"entidades\": extract_names(objeto_sistema6)}"
      ],
      "metadata": {
        "id": "I3cMK6owym9R"
      },
      "execution_count": 70,
      "outputs": []
    },
    {
      "cell_type": "code",
      "source": [
        "json.dump(output_data, open(\"output_items.json\", 'w'))"
      ],
      "metadata": {
        "id": "ncuUK6Xu28Y2"
      },
      "execution_count": 72,
      "outputs": []
    },
    {
      "cell_type": "code",
      "source": [
        "[x[\"description\"] for x in output_data[\"items\"]]"
      ],
      "metadata": {
        "colab": {
          "base_uri": "https://localhost:8080/"
        },
        "id": "2_GN8bGN3Afe",
        "outputId": "4ef29ffb-b117-4c4a-8b51-c0013f6e9ea7"
      },
      "execution_count": 75,
      "outputs": [
        {
          "output_type": "execute_result",
          "data": {
            "text/plain": [
              "['CUADERNOS FORMA FRANCESA RAYADO DE 96 HASTA 100 HOJAS MEDIDAS +/-16 X 21.5 CM +/- 1 CM']"
            ]
          },
          "metadata": {},
          "execution_count": 75
        }
      ]
    },
    {
      "cell_type": "code",
      "source": [],
      "metadata": {
        "id": "NaYnd8gHCm3r"
      },
      "execution_count": null,
      "outputs": []
    }
  ]
}