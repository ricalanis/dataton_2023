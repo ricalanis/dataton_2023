{
  "nbformat": 4,
  "nbformat_minor": 0,
  "metadata": {
    "colab": {
      "provenance": []
    },
    "kernelspec": {
      "name": "python3",
      "display_name": "Python 3"
    },
    "language_info": {
      "name": "python"
    }
  },
  "cells": [
    {
      "cell_type": "code",
      "execution_count": 1,
      "metadata": {
        "id": "gDqbqIkV4fug"
      },
      "outputs": [],
      "source": [
        "import json\n",
        "output_objeto = json.load(open(\"output_items.json\", \"r\"))\n",
        "output_busqueda = json.load(open(\"items_market.json\", \"r\"))\n",
        "output_sancionados = json.load(open(\"output_sancionados.json\", \"r\"))"
      ]
    },
    {
      "cell_type": "code",
      "source": [
        "import pandas as pd"
      ],
      "metadata": {
        "id": "pIMuPo3P5CGB"
      },
      "execution_count": 2,
      "outputs": []
    },
    {
      "cell_type": "code",
      "source": [
        "df_sancionados = pd.DataFrame(output_sancionados)"
      ],
      "metadata": {
        "id": "Iy9icj-c5OMg"
      },
      "execution_count": 3,
      "outputs": []
    },
    {
      "cell_type": "code",
      "source": [
        "! pip install fuzzywuzzy\n",
        "!pip install python-Levenshtein"
      ],
      "metadata": {
        "colab": {
          "base_uri": "https://localhost:8080/"
        },
        "id": "qgoGUMjP6e-2",
        "outputId": "cb3cf1f3-670d-4d09-e049-0bbea9cd5db7"
      },
      "execution_count": 4,
      "outputs": [
        {
          "output_type": "stream",
          "name": "stdout",
          "text": [
            "Requirement already satisfied: fuzzywuzzy in /usr/local/lib/python3.10/dist-packages (0.18.0)\n",
            "Requirement already satisfied: python-Levenshtein in /usr/local/lib/python3.10/dist-packages (0.23.0)\n",
            "Requirement already satisfied: Levenshtein==0.23.0 in /usr/local/lib/python3.10/dist-packages (from python-Levenshtein) (0.23.0)\n",
            "Requirement already satisfied: rapidfuzz<4.0.0,>=3.1.0 in /usr/local/lib/python3.10/dist-packages (from Levenshtein==0.23.0->python-Levenshtein) (3.5.2)\n"
          ]
        }
      ]
    },
    {
      "cell_type": "code",
      "source": [
        "import pandas as pd\n",
        "from fuzzywuzzy import process\n",
        "\n",
        "def find_similar_rows(df, column, search_string, threshold=93):\n",
        "    \"\"\"\n",
        "    Finds rows in the DataFrame where the values in the specified column are similar to the given search string.\n",
        "\n",
        "    :param df: pandas DataFrame to search in.\n",
        "    :param column: Column name to compare the search string with.\n",
        "    :param search_string: String to search for.\n",
        "    :param threshold: Similarity threshold (0-100). Defaults to 80.\n",
        "    :return: DataFrame with rows matching the search criteria.\n",
        "    \"\"\"\n",
        "    # Check if the column exists in the DataFrame\n",
        "    if column not in df.columns:\n",
        "        raise ValueError(f\"Column '{column}' not found in the DataFrame\")\n",
        "\n",
        "    # Extract the column to a list\n",
        "    column_values = df[column].tolist()\n",
        "\n",
        "    # Use fuzzywuzzy to find matches\n",
        "    matches = process.extract(search_string, column_values, limit=None)\n",
        "\n",
        "    # Filter matches based on the threshold\n",
        "    matched_values = [match[0] for match in matches if match[1] >= threshold]\n",
        "\n",
        "    # Return rows from the DataFrame that match the criteria\n",
        "    return df[df[column].isin(matched_values)]"
      ],
      "metadata": {
        "id": "_FJh5QBa6c73"
      },
      "execution_count": 17,
      "outputs": []
    },
    {
      "cell_type": "code",
      "source": [
        "# This is super inneficient, change.\n",
        "matches = pd.DataFrame()\n",
        "for item in output_objeto['entidades']['companies/organizations']:\n",
        "    print(item)\n",
        "    current_matches = find_similar_rows(df_sancionados, 'Name', item)\n",
        "    current_matches[\"Item\"] = item\n",
        "    current_matches[\"Match\"] = 'companies/organizations'\n",
        "    matches = pd.concat([matches, current_matches])\n",
        "for item in output_objeto['entidades']['people']:\n",
        "    current_matches = find_similar_rows(df_sancionados, 'Name', item)\n",
        "    current_matches[\"Item\"] = item\n",
        "    current_matches[\"Match\"] = 'People'\n",
        "    matches =  pd.concat([matches, current_matches])"
      ],
      "metadata": {
        "colab": {
          "base_uri": "https://localhost:8080/"
        },
        "id": "MN-td1eN6cyh",
        "outputId": "e91d51d1-81b8-4cca-af39-11d2c34677ba"
      },
      "execution_count": 18,
      "outputs": [
        {
          "output_type": "stream",
          "name": "stdout",
          "text": [
            "SECRETARÍA DE HACIENDA Y CRÉDITO PÚBLICO\n",
            "DIRECCIÓN GENERAL DE RECURSOS MATERIALES, OBRA PÚBLICA Y SERVICIOS GENERALES\n",
            "FARVISAN INSUMOS INSTITUCIONALES SA DE CV\n",
            "FARVISAN INSUMOS INSTITUCIONALES SA DE CV\n",
            "INTEGRA MARKET & SERVICES SA DE CV\n",
            "BALANDRANO INK SA DE CV\n",
            "INTEGRACION CORPORATIVA PARA LA INDUSTRIA Y COMERCIO SA DE CV\n",
            "FORMAS EFICIENTES SA DE CV\n",
            "SOLUCIONES EN HARDWARE INTELIGENTE SA DE CV\n",
            "GASTELUM IX SA DE CV\n",
            "GRUPO COMERCIAL DAMAG SA DE CV\n",
            "DISTRIBUIDORA SAJOR SA DE CV\n",
            "FARVISAN INSUMOS INSTITUCIONALES SA DE CV\n",
            "CICOVISA SA DE CV\n",
            "SECRETARÍA DE HACIENDA Y CRÉDITO PÚBLICO\n"
          ]
        }
      ]
    },
    {
      "cell_type": "code",
      "source": [
        "matches"
      ],
      "metadata": {
        "colab": {
          "base_uri": "https://localhost:8080/",
          "height": 89
        },
        "id": "hiha0LQ16nC6",
        "outputId": "41bddbab-5fb9-44d9-dcaf-20cc55215fcd"
      },
      "execution_count": 19,
      "outputs": [
        {
          "output_type": "execute_result",
          "data": {
            "text/plain": [
              "Empty DataFrame\n",
              "Columns: [ID, Name, Type, State, Item, Match]\n",
              "Index: []"
            ],
            "text/html": [
              "\n",
              "  <div id=\"df-ad792a18-39e0-4e09-9323-73068561a9a4\" class=\"colab-df-container\">\n",
              "    <div>\n",
              "<style scoped>\n",
              "    .dataframe tbody tr th:only-of-type {\n",
              "        vertical-align: middle;\n",
              "    }\n",
              "\n",
              "    .dataframe tbody tr th {\n",
              "        vertical-align: top;\n",
              "    }\n",
              "\n",
              "    .dataframe thead th {\n",
              "        text-align: right;\n",
              "    }\n",
              "</style>\n",
              "<table border=\"1\" class=\"dataframe\">\n",
              "  <thead>\n",
              "    <tr style=\"text-align: right;\">\n",
              "      <th></th>\n",
              "      <th>ID</th>\n",
              "      <th>Name</th>\n",
              "      <th>Type</th>\n",
              "      <th>State</th>\n",
              "      <th>Item</th>\n",
              "      <th>Match</th>\n",
              "    </tr>\n",
              "  </thead>\n",
              "  <tbody>\n",
              "  </tbody>\n",
              "</table>\n",
              "</div>\n",
              "    <div class=\"colab-df-buttons\">\n",
              "\n",
              "  <div class=\"colab-df-container\">\n",
              "    <button class=\"colab-df-convert\" onclick=\"convertToInteractive('df-ad792a18-39e0-4e09-9323-73068561a9a4')\"\n",
              "            title=\"Convert this dataframe to an interactive table.\"\n",
              "            style=\"display:none;\">\n",
              "\n",
              "  <svg xmlns=\"http://www.w3.org/2000/svg\" height=\"24px\" viewBox=\"0 -960 960 960\">\n",
              "    <path d=\"M120-120v-720h720v720H120Zm60-500h600v-160H180v160Zm220 220h160v-160H400v160Zm0 220h160v-160H400v160ZM180-400h160v-160H180v160Zm440 0h160v-160H620v160ZM180-180h160v-160H180v160Zm440 0h160v-160H620v160Z\"/>\n",
              "  </svg>\n",
              "    </button>\n",
              "\n",
              "  <style>\n",
              "    .colab-df-container {\n",
              "      display:flex;\n",
              "      gap: 12px;\n",
              "    }\n",
              "\n",
              "    .colab-df-convert {\n",
              "      background-color: #E8F0FE;\n",
              "      border: none;\n",
              "      border-radius: 50%;\n",
              "      cursor: pointer;\n",
              "      display: none;\n",
              "      fill: #1967D2;\n",
              "      height: 32px;\n",
              "      padding: 0 0 0 0;\n",
              "      width: 32px;\n",
              "    }\n",
              "\n",
              "    .colab-df-convert:hover {\n",
              "      background-color: #E2EBFA;\n",
              "      box-shadow: 0px 1px 2px rgba(60, 64, 67, 0.3), 0px 1px 3px 1px rgba(60, 64, 67, 0.15);\n",
              "      fill: #174EA6;\n",
              "    }\n",
              "\n",
              "    .colab-df-buttons div {\n",
              "      margin-bottom: 4px;\n",
              "    }\n",
              "\n",
              "    [theme=dark] .colab-df-convert {\n",
              "      background-color: #3B4455;\n",
              "      fill: #D2E3FC;\n",
              "    }\n",
              "\n",
              "    [theme=dark] .colab-df-convert:hover {\n",
              "      background-color: #434B5C;\n",
              "      box-shadow: 0px 1px 3px 1px rgba(0, 0, 0, 0.15);\n",
              "      filter: drop-shadow(0px 1px 2px rgba(0, 0, 0, 0.3));\n",
              "      fill: #FFFFFF;\n",
              "    }\n",
              "  </style>\n",
              "\n",
              "    <script>\n",
              "      const buttonEl =\n",
              "        document.querySelector('#df-ad792a18-39e0-4e09-9323-73068561a9a4 button.colab-df-convert');\n",
              "      buttonEl.style.display =\n",
              "        google.colab.kernel.accessAllowed ? 'block' : 'none';\n",
              "\n",
              "      async function convertToInteractive(key) {\n",
              "        const element = document.querySelector('#df-ad792a18-39e0-4e09-9323-73068561a9a4');\n",
              "        const dataTable =\n",
              "          await google.colab.kernel.invokeFunction('convertToInteractive',\n",
              "                                                    [key], {});\n",
              "        if (!dataTable) return;\n",
              "\n",
              "        const docLinkHtml = 'Like what you see? Visit the ' +\n",
              "          '<a target=\"_blank\" href=https://colab.research.google.com/notebooks/data_table.ipynb>data table notebook</a>'\n",
              "          + ' to learn more about interactive tables.';\n",
              "        element.innerHTML = '';\n",
              "        dataTable['output_type'] = 'display_data';\n",
              "        await google.colab.output.renderOutput(dataTable, element);\n",
              "        const docLink = document.createElement('div');\n",
              "        docLink.innerHTML = docLinkHtml;\n",
              "        element.appendChild(docLink);\n",
              "      }\n",
              "    </script>\n",
              "  </div>\n",
              "\n",
              "\n",
              "  <div id=\"id_14f7361b-edc9-42b5-b562-167576c9e525\">\n",
              "    <style>\n",
              "      .colab-df-generate {\n",
              "        background-color: #E8F0FE;\n",
              "        border: none;\n",
              "        border-radius: 50%;\n",
              "        cursor: pointer;\n",
              "        display: none;\n",
              "        fill: #1967D2;\n",
              "        height: 32px;\n",
              "        padding: 0 0 0 0;\n",
              "        width: 32px;\n",
              "      }\n",
              "\n",
              "      .colab-df-generate:hover {\n",
              "        background-color: #E2EBFA;\n",
              "        box-shadow: 0px 1px 2px rgba(60, 64, 67, 0.3), 0px 1px 3px 1px rgba(60, 64, 67, 0.15);\n",
              "        fill: #174EA6;\n",
              "      }\n",
              "\n",
              "      [theme=dark] .colab-df-generate {\n",
              "        background-color: #3B4455;\n",
              "        fill: #D2E3FC;\n",
              "      }\n",
              "\n",
              "      [theme=dark] .colab-df-generate:hover {\n",
              "        background-color: #434B5C;\n",
              "        box-shadow: 0px 1px 3px 1px rgba(0, 0, 0, 0.15);\n",
              "        filter: drop-shadow(0px 1px 2px rgba(0, 0, 0, 0.3));\n",
              "        fill: #FFFFFF;\n",
              "      }\n",
              "    </style>\n",
              "    <button class=\"colab-df-generate\" onclick=\"generateWithVariable('matches')\"\n",
              "            title=\"Generate code using this dataframe.\"\n",
              "            style=\"display:none;\">\n",
              "\n",
              "  <svg xmlns=\"http://www.w3.org/2000/svg\" height=\"24px\"viewBox=\"0 0 24 24\"\n",
              "       width=\"24px\">\n",
              "    <path d=\"M7,19H8.4L18.45,9,17,7.55,7,17.6ZM5,21V16.75L18.45,3.32a2,2,0,0,1,2.83,0l1.4,1.43a1.91,1.91,0,0,1,.58,1.4,1.91,1.91,0,0,1-.58,1.4L9.25,21ZM18.45,9,17,7.55Zm-12,3A5.31,5.31,0,0,0,4.9,8.1,5.31,5.31,0,0,0,1,6.5,5.31,5.31,0,0,0,4.9,4.9,5.31,5.31,0,0,0,6.5,1,5.31,5.31,0,0,0,8.1,4.9,5.31,5.31,0,0,0,12,6.5,5.46,5.46,0,0,0,6.5,12Z\"/>\n",
              "  </svg>\n",
              "    </button>\n",
              "    <script>\n",
              "      (() => {\n",
              "      const buttonEl =\n",
              "        document.querySelector('#id_14f7361b-edc9-42b5-b562-167576c9e525 button.colab-df-generate');\n",
              "      buttonEl.style.display =\n",
              "        google.colab.kernel.accessAllowed ? 'block' : 'none';\n",
              "\n",
              "      buttonEl.onclick = () => {\n",
              "        google.colab.notebook.generateWithVariable('matches');\n",
              "      }\n",
              "      })();\n",
              "    </script>\n",
              "  </div>\n",
              "\n",
              "    </div>\n",
              "  </div>\n"
            ]
          },
          "metadata": {},
          "execution_count": 19
        }
      ]
    },
    {
      "cell_type": "code",
      "source": [
        "output_objeto"
      ],
      "metadata": {
        "colab": {
          "base_uri": "https://localhost:8080/"
        },
        "id": "jhTps7rC9uUo",
        "outputId": "3b78003e-e6d1-4581-89c2-0992015a51c8"
      },
      "execution_count": 20,
      "outputs": [
        {
          "output_type": "execute_result",
          "data": {
            "text/plain": [
              "{'items': [{'classification': {'description': 'Blocs o cuadernos de papel ',\n",
              "    'id': '14111514',\n",
              "    'scheme': 'UNSPSC: El CÃ³digo estÃ¡ndar de productos y servicios de las Naciones Unidas',\n",
              "    'uri': 'https://www.unspsc.org/search-code'},\n",
              "   'description': 'CUADERNOS FORMA FRANCESA RAYADO DE 96 HASTA 100 HOJAS MEDIDAS +/-16 X 21.5 CM +/- 1 CM',\n",
              "   'id': 65564,\n",
              "   'quantity': 8,\n",
              "   'unit': {'name': 'PIEZA', 'value': {'amount': 15.17, 'currency': 'MNX'}}}],\n",
              " 'entidades': {'people': ['RODRIGO RAFAEL PÉREZ CANO',\n",
              "   'HELENA ALMENDRA CHONG DE LA ROSA',\n",
              "   'arturo villanueva sanroman'],\n",
              "  'companies/organizations': ['SECRETARÍA DE HACIENDA Y CRÉDITO PÚBLICO',\n",
              "   'DIRECCIÓN GENERAL DE RECURSOS MATERIALES, OBRA PÚBLICA\\xa0Y SERVICIOS GENERALES',\n",
              "   'FARVISAN INSUMOS INSTITUCIONALES SA DE CV',\n",
              "   'FARVISAN INSUMOS INSTITUCIONALES SA DE CV',\n",
              "   'INTEGRA MARKET & SERVICES SA DE CV',\n",
              "   'BALANDRANO INK SA DE CV',\n",
              "   'INTEGRACION CORPORATIVA PARA LA INDUSTRIA Y COMERCIO SA DE CV',\n",
              "   'FORMAS EFICIENTES SA DE CV',\n",
              "   'SOLUCIONES EN HARDWARE INTELIGENTE SA DE CV',\n",
              "   'GASTELUM IX SA DE CV',\n",
              "   'GRUPO COMERCIAL DAMAG SA DE CV',\n",
              "   'DISTRIBUIDORA SAJOR SA DE CV',\n",
              "   'FARVISAN INSUMOS INSTITUCIONALES SA DE CV',\n",
              "   'CICOVISA SA DE CV',\n",
              "   'SECRETARÍA DE HACIENDA Y CRÉDITO PÚBLICO']}}"
            ]
          },
          "metadata": {},
          "execution_count": 20
        }
      ]
    },
    {
      "cell_type": "code",
      "source": [
        "items_price = pd.DataFrame(output_busqueda)"
      ],
      "metadata": {
        "id": "YM7ZXlGjEAAp"
      },
      "execution_count": 29,
      "outputs": []
    },
    {
      "cell_type": "code",
      "source": [],
      "metadata": {
        "id": "5jfguOaNEB7T"
      },
      "execution_count": null,
      "outputs": []
    }
  ]
}