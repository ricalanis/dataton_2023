{
  "nbformat": 4,
  "nbformat_minor": 0,
  "metadata": {
    "colab": {
      "provenance": []
    },
    "kernelspec": {
      "name": "python3",
      "display_name": "Python 3"
    },
    "language_info": {
      "name": "python"
    }
  },
  "cells": [
    {
      "cell_type": "code",
      "source": [
        "import os\n",
        "import json\n",
        "\n",
        "folders = os.listdir()\n",
        "\n",
        "all_data = []\n",
        "\n",
        "def extract_sanction_data(folder):\n",
        "  all_data = []\n",
        "  for file in os.listdir(folder):\n",
        "    if \".\" in file:\n",
        "      continue\n",
        "    current_state = []\n",
        "    for data_file in os.listdir(os.path.join(folder, file)):\n",
        "      with open(os.path.join(folder, file, data_file), 'r') as f:\n",
        "            data = json.load(f)\n",
        "            for d in data:\n",
        "              d[\"folder_saciones\"] = folder\n",
        "              d[\"folder_estado\"] = file\n",
        "              d[\"file_data\"] = data_file\n",
        "              current_state.append(d)\n",
        "      all_data = all_data + current_state\n",
        "  return all_data\n",
        "\n",
        "\n",
        "\n",
        "base_folder = \"sanciones\"\n",
        "tipos = os.listdir(base_folder)\n",
        "sanciones = {}\n",
        "folder_priv = os.path.join(base_folder, \"s3p\")\n",
        "sanciones[\"sanciones_privadas\"] = extract_sanction_data(folder_priv)\n",
        "folder_serv = os.path.join(base_folder, \"s3s\")\n",
        "sanciones[\"sanciones_servidores\"] = extract_sanction_data(folder_serv)\n",
        "\n",
        "\n"
      ],
      "metadata": {
        "id": "gIzjjm0RUjoA"
      },
      "execution_count": null,
      "outputs": []
    },
    {
      "cell_type": "code",
      "source": [],
      "metadata": {
        "id": "tQv20Ey9Ut0r"
      },
      "execution_count": null,
      "outputs": []
    },
    {
      "cell_type": "code",
      "source": [
        "len(sanciones['sanciones_privadas'])"
      ],
      "metadata": {
        "colab": {
          "base_uri": "https://localhost:8080/"
        },
        "id": "9P9Az6CFVedE",
        "outputId": "cc174606-55d4-4100-f532-e9c735c112cf"
      },
      "execution_count": null,
      "outputs": [
        {
          "output_type": "execute_result",
          "data": {
            "text/plain": [
              "12805"
            ]
          },
          "metadata": {},
          "execution_count": 125
        }
      ]
    },
    {
      "cell_type": "code",
      "source": [
        "len(sanciones['sanciones_servidores'])"
      ],
      "metadata": {
        "colab": {
          "base_uri": "https://localhost:8080/"
        },
        "id": "cxl3lvX9iY3h",
        "outputId": "1fb83f8b-7feb-4a52-c6b7-6f69caa9413b"
      },
      "execution_count": null,
      "outputs": [
        {
          "output_type": "execute_result",
          "data": {
            "text/plain": [
              "36948"
            ]
          },
          "metadata": {},
          "execution_count": 126
        }
      ]
    },
    {
      "cell_type": "code",
      "source": [
        "def extract_private(objeto):\n",
        "    # Extracción del ID del caso\n",
        "    id_caso = objeto.get('id', 'No disponible')\n",
        "\n",
        "    # Extracción del nombre del sancionado\n",
        "    nombre_sancionado = objeto.get('particularSancionado', {}).get('nombreRazonSocial', 'No disponible')\n",
        "    state_caso = objeto.get('folder_estado', 'No Disponible')\n",
        "\n",
        "    # Intentar extraer nombres de empresas relacionadas (este campo no se encuentra en el ejemplo proporcionado)\n",
        "    empresas_relacionadas = []\n",
        "    if 'empresas' in objeto:\n",
        "        for empresa in objeto['empresas']:\n",
        "            nombre_empresa = empresa.get('nombre', 'No disponible')\n",
        "            empresas_relacionadas.append(nombre_empresa)\n",
        "\n",
        "    return {\n",
        "        'ID': id_caso,\n",
        "        'Name': nombre_sancionado,\n",
        "        'Type': 'Private',\n",
        "        \"State\": state_caso\n",
        "    }"
      ],
      "metadata": {
        "id": "31H7P3WGtGcb"
      },
      "execution_count": null,
      "outputs": []
    },
    {
      "cell_type": "code",
      "source": [
        "def extract_public(caso):\n",
        "    # Asegurarse de que 'sanciones_servidores' existe y tiene al menos un elemento\n",
        "\n",
        "    # Extracción del nombre del funcionario público sancionado\n",
        "    nombre_funcionario = caso.get('nombre_funcionario', 'No disponible')\n",
        "\n",
        "    # Extracción del ID del caso\n",
        "    id_caso = caso.get('id_caso', 'No disponible')\n",
        "    state_caso = caso.get('folder_estado', 'No Disponible')\n",
        "\n",
        "    return {\n",
        "        'Name': nombre_funcionario,\n",
        "        'ID': id_caso,\n",
        "        \"Type\": \"Public Servant\",\n",
        "        \"State\": state_caso\n",
        "    }"
      ],
      "metadata": {
        "id": "ocqB-xuIumLv"
      },
      "execution_count": null,
      "outputs": []
    },
    {
      "cell_type": "code",
      "source": [
        "lista_privados = [extract_private(caso) for caso in sanciones['sanciones_privadas']]\n",
        "lista_publicos = [extract_public(caso) for caso in sanciones['sanciones_servidores']]\n"
      ],
      "metadata": {
        "id": "3ru7GO4owWVV"
      },
      "execution_count": null,
      "outputs": []
    },
    {
      "cell_type": "code",
      "source": [
        "import pandas as pd\n",
        "\n",
        "df = pd.read_csv(\"sanciones/Listado_Completo_69-B.csv\", encoding=\"latin-1\", skiprows=2)\n",
        "\n",
        "def extract_sat(caso):\n",
        "  return {\n",
        "      'Name': caso[\"Nombre del Contribuyente\"],\n",
        "      \"ID\": caso[\"RFC\"],\n",
        "      \"Type\": \"SAT\",\n",
        "      \"State\": \"N/A\"\n",
        "  }"
      ],
      "metadata": {
        "id": "4Y4Y2WiXx0UC"
      },
      "execution_count": 155,
      "outputs": []
    },
    {
      "cell_type": "code",
      "source": [
        "lista_sat = [extract_sat(row) for i,row in df.iterrows()]"
      ],
      "metadata": {
        "id": "9LLhkfqf0IGv"
      },
      "execution_count": 156,
      "outputs": []
    },
    {
      "cell_type": "code",
      "source": [
        "lista_sancionados = lista_privados + lista_publicos + lista_sat\n",
        "json.dump(lista_sancionados, open(\"sancionados.json\", \"w\"))"
      ],
      "metadata": {
        "id": "m5D_x5e40rbP"
      },
      "execution_count": 157,
      "outputs": []
    },
    {
      "cell_type": "code",
      "source": [
        "json.dump(lista_sancionados, open(\"output_sancionados.json\", 'w'))"
      ],
      "metadata": {
        "id": "L3L0rxK13R18"
      },
      "execution_count": 158,
      "outputs": []
    },
    {
      "cell_type": "code",
      "source": [],
      "metadata": {
        "id": "KNVk0_Z53U5Z"
      },
      "execution_count": null,
      "outputs": []
    }
  ]
}