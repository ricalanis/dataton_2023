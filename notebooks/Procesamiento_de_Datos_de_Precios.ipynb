{
  "nbformat": 4,
  "nbformat_minor": 0,
  "metadata": {
    "colab": {
      "provenance": []
    },
    "kernelspec": {
      "name": "python3",
      "display_name": "Python 3"
    },
    "language_info": {
      "name": "python"
    }
  },
  "cells": [
    {
      "cell_type": "markdown",
      "source": [
        "# Objeto a buscar\n",
        "CUADERNOS FORMA FRANCESA RAYADO DE 96 HASTA 100 HOJAS MEDIDAS +/-16 X 21.5 CM +/- 1 CM"
      ],
      "metadata": {
        "id": "Qcv2YHlifUTS"
      }
    },
    {
      "cell_type": "code",
      "execution_count": 1,
      "metadata": {
        "id": "5Qo5uv3aChlU"
      },
      "outputs": [],
      "source": [
        "import requests\n",
        "import json\n",
        "\n",
        "def search_in_bing(termino_busqueda):\n",
        "    # URL de la API de Bing Search\n",
        "    url = \"https://api.bing.microsoft.com/v7.0/search\"\n",
        "\n",
        "    # Parámetros de la solicitud\n",
        "    parametros = {'q': termino_busqueda, \"count\": 10}\n",
        "\n",
        "    # Encabezados de la solicitud, incluyendo tu clave de API\n",
        "    encabezados = {'Ocp-Apim-Subscription-Key': \"{Bing key aca}'\"}\n",
        "\n",
        "    # Realizar la solicitud\n",
        "    respuesta = requests.get(url, headers=encabezados, params=parametros)\n",
        "\n",
        "    # Verificar si la solicitud fue exitosa\n",
        "    if respuesta.status_code == 200:\n",
        "      r = respuesta.json()\n",
        "      return [page[\"url\"] for page in r[\"webPages\"][\"value\"] if len(page[\"url\"].split(\"/\"))>3]\n",
        "    else:\n",
        "      return \"Error en la solicitud: \" + respuesta.reason"
      ]
    },
    {
      "cell_type": "code",
      "source": [
        "# Término de búsqueda\n",
        "termino_busqueda = 'Comprar CUADERNOS FORMA FRANCESA RAYADO DE 96 HASTA 100 HOJAS MEDIDAS +/-16 X 21.5 CM +/- 1 CM'\n",
        "\n",
        "# Realizar la búsqueda\n",
        "resultados = search_in_bing(termino_busqueda)\n",
        "\n",
        "# Imprimir resultados"
      ],
      "metadata": {
        "id": "XkUC_bg2f7ty"
      },
      "execution_count": 2,
      "outputs": []
    },
    {
      "cell_type": "code",
      "source": [
        "resultados"
      ],
      "metadata": {
        "colab": {
          "base_uri": "https://localhost:8080/"
        },
        "id": "28qIAkiqghVj",
        "outputId": "4b90f711-d4a2-4aa0-b224-db6e034a21d5"
      },
      "execution_count": null,
      "outputs": [
        {
          "output_type": "execute_result",
          "data": {
            "text/plain": [
              "['https://www.tiendanorma.com.mx/p/cuaderno-argollado-frances-cuadro-grande-ferrari-sf-4-100-hojas/',\n",
              " 'https://lumen.com.mx/cuaderno-forma-francesa-norma-jean-book-raya-100-hojas-marca-norma-sku-14005001',\n",
              " 'https://lumen.com.mx/cuaderno-profesional-norma-jean-book-raya-100-hojas-marca-norma-sku-14009002',\n",
              " 'https://www.amazon.com.mx/Cuadernos-Estrella-0080-Libreta-Francesa/dp/B00VXXL53E',\n",
              " 'https://lumen.com.mx/libreta-pegada-forma-francesa-scribe-clasico-raya-96-hojas-marca-scribe-sku-7357',\n",
              " 'https://lumen.com.mx/cuaderno-forma-francesa-scribe-clasico-blanco-100-hojas-marca-scribe-sku-14010002',\n",
              " 'https://oficimundo.com.mx/librosflorete.html',\n",
              " 'https://www.mercadolibre.com.mx/norma-color-360-frances-100-hojas-opcional-1-materias-pack-x-4-216cm-x-16cm-norma-color/p/MLM22769469',\n",
              " 'https://www.mercadolibre.com.mx/estrella-raya-0080-192-hojas-bond-unidad-x-1-215cm-x-16cm-estrella/p/MLM22673776',\n",
              " 'https://listado.mercadolibre.com.mx/cuaderno-200-hojas-francesa']"
            ]
          },
          "metadata": {},
          "execution_count": 68
        }
      ]
    },
    {
      "cell_type": "code",
      "source": [
        "!pip install openai"
      ],
      "metadata": {
        "colab": {
          "base_uri": "https://localhost:8080/"
        },
        "id": "Cn7QcLZggx5c",
        "outputId": "433a4f45-7b0e-448d-f2a4-6b73a2357870"
      },
      "execution_count": 3,
      "outputs": [
        {
          "output_type": "stream",
          "name": "stdout",
          "text": [
            "Collecting openai\n",
            "  Downloading openai-1.3.7-py3-none-any.whl (221 kB)\n",
            "\u001b[?25l     \u001b[90m━━━━━━━━━━━━━━━━━━━━━━━━━━━━━━━━━━━━━━━━\u001b[0m \u001b[32m0.0/221.4 kB\u001b[0m \u001b[31m?\u001b[0m eta \u001b[36m-:--:--\u001b[0m\r\u001b[2K     \u001b[91m━━━━━━━━━━━━━━━━━━━━━━━━\u001b[0m\u001b[90m╺\u001b[0m\u001b[90m━━━━━━━━━━━━━━━\u001b[0m \u001b[32m133.1/221.4 kB\u001b[0m \u001b[31m3.8 MB/s\u001b[0m eta \u001b[36m0:00:01\u001b[0m\r\u001b[2K     \u001b[90m━━━━━━━━━━━━━━━━━━━━━━━━━━━━━━━━━━━━━━━━\u001b[0m \u001b[32m221.4/221.4 kB\u001b[0m \u001b[31m4.6 MB/s\u001b[0m eta \u001b[36m0:00:00\u001b[0m\n",
            "\u001b[?25hRequirement already satisfied: anyio<4,>=3.5.0 in /usr/local/lib/python3.10/dist-packages (from openai) (3.7.1)\n",
            "Requirement already satisfied: distro<2,>=1.7.0 in /usr/lib/python3/dist-packages (from openai) (1.7.0)\n",
            "Collecting httpx<1,>=0.23.0 (from openai)\n",
            "  Downloading httpx-0.25.2-py3-none-any.whl (74 kB)\n",
            "\u001b[2K     \u001b[90m━━━━━━━━━━━━━━━━━━━━━━━━━━━━━━━━━━━━━━━━\u001b[0m \u001b[32m75.0/75.0 kB\u001b[0m \u001b[31m7.8 MB/s\u001b[0m eta \u001b[36m0:00:00\u001b[0m\n",
            "\u001b[?25hRequirement already satisfied: pydantic<3,>=1.9.0 in /usr/local/lib/python3.10/dist-packages (from openai) (1.10.13)\n",
            "Requirement already satisfied: sniffio in /usr/local/lib/python3.10/dist-packages (from openai) (1.3.0)\n",
            "Requirement already satisfied: tqdm>4 in /usr/local/lib/python3.10/dist-packages (from openai) (4.66.1)\n",
            "Requirement already satisfied: typing-extensions<5,>=4.5 in /usr/local/lib/python3.10/dist-packages (from openai) (4.5.0)\n",
            "Requirement already satisfied: idna>=2.8 in /usr/local/lib/python3.10/dist-packages (from anyio<4,>=3.5.0->openai) (3.6)\n",
            "Requirement already satisfied: exceptiongroup in /usr/local/lib/python3.10/dist-packages (from anyio<4,>=3.5.0->openai) (1.2.0)\n",
            "Requirement already satisfied: certifi in /usr/local/lib/python3.10/dist-packages (from httpx<1,>=0.23.0->openai) (2023.11.17)\n",
            "Collecting httpcore==1.* (from httpx<1,>=0.23.0->openai)\n",
            "  Downloading httpcore-1.0.2-py3-none-any.whl (76 kB)\n",
            "\u001b[2K     \u001b[90m━━━━━━━━━━━━━━━━━━━━━━━━━━━━━━━━━━━━━━━━\u001b[0m \u001b[32m76.9/76.9 kB\u001b[0m \u001b[31m8.7 MB/s\u001b[0m eta \u001b[36m0:00:00\u001b[0m\n",
            "\u001b[?25hCollecting h11<0.15,>=0.13 (from httpcore==1.*->httpx<1,>=0.23.0->openai)\n",
            "  Downloading h11-0.14.0-py3-none-any.whl (58 kB)\n",
            "\u001b[2K     \u001b[90m━━━━━━━━━━━━━━━━━━━━━━━━━━━━━━━━━━━━━━━━\u001b[0m \u001b[32m58.3/58.3 kB\u001b[0m \u001b[31m9.0 MB/s\u001b[0m eta \u001b[36m0:00:00\u001b[0m\n",
            "\u001b[?25hInstalling collected packages: h11, httpcore, httpx, openai\n",
            "\u001b[31mERROR: pip's dependency resolver does not currently take into account all the packages that are installed. This behaviour is the source of the following dependency conflicts.\n",
            "llmx 0.0.15a0 requires cohere, which is not installed.\n",
            "llmx 0.0.15a0 requires tiktoken, which is not installed.\u001b[0m\u001b[31m\n",
            "\u001b[0mSuccessfully installed h11-0.14.0 httpcore-1.0.2 httpx-0.25.2 openai-1.3.7\n"
          ]
        }
      ]
    },
    {
      "cell_type": "code",
      "source": [
        "from urllib.request import urlopen\n",
        "from bs4 import BeautifulSoup\n",
        "\n",
        "def get_url_text(url):\n",
        "  html = requests.get(url).content\n",
        "  soup = BeautifulSoup(html, features=\"html.parser\")\n",
        "\n",
        "  # kill all script and style elements\n",
        "  for script in soup([\"script\", \"style\"]):\n",
        "      script.extract()    # rip it out\n",
        "\n",
        "  # get text\n",
        "  try:\n",
        "    text = soup.body.get_text()[0:10000]\n",
        "  except:\n",
        "    print(\"page not accesible, defaulting empty text\")\n",
        "    text = \"\"\n",
        "\n",
        "  # break into lines and remove leading and trailing space on each\n",
        "  lines = (line.strip() for line in text.splitlines())\n",
        "  # break multi-headlines into a line each\n",
        "  chunks = (phrase.strip() for line in lines for phrase in line.split(\"  \"))\n",
        "  # drop blank lines\n",
        "  text = '\\n'.join(chunk for chunk in chunks if chunk)\n",
        "  return text"
      ],
      "metadata": {
        "id": "dYHNZYDzlCo8"
      },
      "execution_count": 4,
      "outputs": []
    },
    {
      "cell_type": "code",
      "source": [
        "def get_gpt4_json_response(html_content):\n",
        "    api_key = \"open_ai_key_aca\"\n",
        "    client = OpenAI(api_key=api_key)\n",
        "    completion = client.chat.completions.create(\n",
        "        model=\"gpt-4-1106-preview\",\n",
        "        response_format={\"type\": \"json_object\"},\n",
        "        messages=[\n",
        "            {\"role\": \"user\", \"content\": f\"\"\"From this Page Text({html_content[0:120000]}) , try to extract as json the price (adjust just to get a floating number) of the item search, do declare if the call is successful or not: {{ \"success\": \"OK\", {{\"item\": \"Extracted item name\", \"item_count\":\"Extracted item number of units\", \"cost/unit\": \"Extracted item cost per unit\", \"cost\": \"Extracted item total cost\"}} }}\"\"\"}\n",
        "        ]\n",
        "    )\n",
        "\n",
        "    return json.loads(completion.choices[0].message.content)"
      ],
      "metadata": {
        "id": "v4pKR7StuA70"
      },
      "execution_count": 5,
      "outputs": []
    },
    {
      "cell_type": "markdown",
      "source": [],
      "metadata": {
        "id": "WlpctbFxvJB6"
      }
    },
    {
      "cell_type": "code",
      "source": [
        "from openai import OpenAI"
      ],
      "metadata": {
        "id": "GQlP7uD3-vO1"
      },
      "execution_count": 6,
      "outputs": []
    },
    {
      "cell_type": "code",
      "source": [
        "def get_page_data(url):\n",
        "  html_content = get_url_text(url)\n",
        "  print(f\"Tamano de Pagina...{str(len(html_content))}\")\n",
        "  json_response = get_gpt4_json_response(html_content)\n",
        "  json_response[\"URL\"] = url\n",
        "  return (json_response)"
      ],
      "metadata": {
        "id": "8L9aaVBaj51U"
      },
      "execution_count": 15,
      "outputs": []
    },
    {
      "cell_type": "code",
      "source": [
        "def get_item_data(item):\n",
        "  print(f\"Buscando...{item}\")\n",
        "  termino_busqueda = f'''Comprar {item}'''\n",
        "  resultados = search_in_bing(termino_busqueda)\n",
        "  output = []\n",
        "  print(f\"Explorando {str(len(resultados))} resultados...\")\n",
        "  for url in resultados:\n",
        "    print(f\"Obteniendo pagina...{url}\")\n",
        "    page_data=get_page_data(url)\n",
        "    output.append(page_data)\n",
        "  return output"
      ],
      "metadata": {
        "id": "BD9-96-qupJa"
      },
      "execution_count": 16,
      "outputs": []
    },
    {
      "cell_type": "code",
      "source": [
        "resultados[0]"
      ],
      "metadata": {
        "colab": {
          "base_uri": "https://localhost:8080/",
          "height": 35
        },
        "id": "RrzUwWFAWrJU",
        "outputId": "41bda417-9d7f-4d74-e73d-ad6b83b0ba2a"
      },
      "execution_count": 17,
      "outputs": [
        {
          "output_type": "execute_result",
          "data": {
            "text/plain": [
              "'https://lumen.com.mx/cuaderno-forma-francesa-norma-jean-book-raya-100-hojas-marca-norma-sku-14005001'"
            ],
            "application/vnd.google.colaboratory.intrinsic+json": {
              "type": "string"
            }
          },
          "metadata": {},
          "execution_count": 17
        }
      ]
    },
    {
      "cell_type": "code",
      "source": [
        "len(resultados[0].split(\"/\")[:3])"
      ],
      "metadata": {
        "colab": {
          "base_uri": "https://localhost:8080/"
        },
        "id": "uG-PLszuW2Bs",
        "outputId": "803912fc-5a26-450f-f20d-3d8a8c8ab5e1"
      },
      "execution_count": 18,
      "outputs": [
        {
          "output_type": "execute_result",
          "data": {
            "text/plain": [
              "3"
            ]
          },
          "metadata": {},
          "execution_count": 18
        }
      ]
    },
    {
      "cell_type": "code",
      "source": [
        "output"
      ],
      "metadata": {
        "colab": {
          "base_uri": "https://localhost:8080/"
        },
        "id": "pAkUuNvUauCH",
        "outputId": "aed77798-1377-495e-d556-966edf541e8f"
      },
      "execution_count": null,
      "outputs": [
        {
          "output_type": "execute_result",
          "data": {
            "text/plain": [
              "{'success': 'OK',\n",
              " 'item': 'Cuaderno Argollado Frances Cuadro Grande Ferrari SF',\n",
              " 'item_count': '100 Hojas',\n",
              " 'cost/unit': '52.50',\n",
              " 'cost': '52.50'}"
            ]
          },
          "metadata": {},
          "execution_count": 82
        }
      ]
    },
    {
      "cell_type": "code",
      "source": [
        "output_analysis = get_item_data(\"CUADERNOS FORMA FRANCESA RAYADO DE 96 HASTA 100 HOJAS MEDIDAS +/-16 X 21.5 CM +/- 1 CM\")\n"
      ],
      "metadata": {
        "id": "W-bW8eS-WiT4",
        "colab": {
          "base_uri": "https://localhost:8080/"
        },
        "outputId": "5124e5fc-e2c1-4de8-a0a4-9725e5c9fc71"
      },
      "execution_count": 20,
      "outputs": [
        {
          "output_type": "stream",
          "name": "stdout",
          "text": [
            "Buscando...CUADERNOS FORMA FRANCESA RAYADO DE 96 HASTA 100 HOJAS MEDIDAS +/-16 X 21.5 CM +/- 1 CM\n",
            "Explorando 10 resultados...\n",
            "Obteniendo pagina...https://www.tiendanorma.com.mx/p/cuaderno-argollado-frances-cuadro-grande-ferrari-sf-4-100-hojas/\n",
            "Tamano de Pagina...3050\n",
            "Obteniendo pagina...https://lumen.com.mx/cuaderno-forma-francesa-norma-jean-book-raya-100-hojas-marca-norma-sku-14005001\n",
            "Tamano de Pagina...8116\n",
            "Obteniendo pagina...https://www.amazon.com.mx/Cuadernos-Estrella-0080-Libreta-Francesa/dp/B00VXXL53E\n",
            "Tamano de Pagina...7998\n",
            "Obteniendo pagina...https://lumen.com.mx/cuaderno-profesional-norma-jean-book-raya-100-hojas-marca-norma-sku-14009002\n",
            "Tamano de Pagina...8116\n",
            "Obteniendo pagina...https://oficimundo.com.mx/librosflorete.html\n",
            "Tamano de Pagina...3486\n",
            "Obteniendo pagina...https://listado.mercadolibre.com.mx/cuaderno-200-hojas-francesa\n",
            "Tamano de Pagina...9364\n",
            "Obteniendo pagina...https://www.mercadolibre.com.mx/estrella-raya-0080-192-hojas-bond-unidad-x-1-215cm-x-16cm-estrella/p/MLM22673776\n",
            "Tamano de Pagina...4532\n",
            "Obteniendo pagina...https://www.abasteo.mx/Estrella-Libro-Florete-1-6-Rayado-96-Hojas-16-3x34-4cm.html\n",
            "Tamano de Pagina...1621\n",
            "Obteniendo pagina...https://cuadros-comparativos.com/diferencia-entre-cuaderno-forma-francesa-e-italiana/\n",
            "Tamano de Pagina...543\n",
            "Obteniendo pagina...https://www.academia.edu/42903082/TESIS_Latinoam%C3%A9rica_la_presencia_del_barro_y_la_cer%C3%A1mica_en_la_escultura_LAURA_RUEDA_2019\n",
            "Tamano de Pagina...9995\n"
          ]
        }
      ]
    },
    {
      "cell_type": "code",
      "source": [
        "output_analysis"
      ],
      "metadata": {
        "id": "9MrTCTrwYDa8",
        "colab": {
          "base_uri": "https://localhost:8080/"
        },
        "outputId": "df78c277-f20c-4e28-e4f0-650efb9eb3ad"
      },
      "execution_count": 21,
      "outputs": [
        {
          "output_type": "execute_result",
          "data": {
            "text/plain": [
              "[{'success': 'OK',\n",
              "  'item': 'Cuaderno Argollado Frances Cuadro Grande Ferrari SF',\n",
              "  'item_count': '100',\n",
              "  'cost/unit': '52.50',\n",
              "  'cost': '5250.00',\n",
              "  'URL': 'https://www.tiendanorma.com.mx/p/cuaderno-argollado-frances-cuadro-grande-ferrari-sf-4-100-hojas/'},\n",
              " {'success': 'OK',\n",
              "  'item': 'CUADERNO FORMA FRANCESA NORMA JEAN BOOK RAYA 100 HOJAS',\n",
              "  'item_count': '1',\n",
              "  'cost/unit': '74.00',\n",
              "  'cost': '74.00',\n",
              "  'URL': 'https://lumen.com.mx/cuaderno-forma-francesa-norma-jean-book-raya-100-hojas-marca-norma-sku-14005001'},\n",
              " {'success': 'OK',\n",
              "  'item': 'Cuadernos Estrella 0080 Libreta 1/4 Forma Francesa Rayado',\n",
              "  'item_count': '1',\n",
              "  'cost/unit': '146.98',\n",
              "  'cost': '146.98',\n",
              "  'URL': 'https://www.amazon.com.mx/Cuadernos-Estrella-0080-Libreta-Francesa/dp/B00VXXL53E'},\n",
              " {'success': 'OK',\n",
              "  'item': 'CUADERNO PROFESIONAL NORMA JEAN BOOK RAYA 100 HOJAS',\n",
              "  'item_count': '1',\n",
              "  'cost/unit': '110.00',\n",
              "  'cost': '110.00 MXN',\n",
              "  'URL': 'https://lumen.com.mx/cuaderno-profesional-norma-jean-book-raya-100-hojas-marca-norma-sku-14009002'},\n",
              " {'success': 'false',\n",
              "  'message': 'No pricing information found in the provided text',\n",
              "  'URL': 'https://oficimundo.com.mx/librosflorete.html'},\n",
              " {'success': 'OK',\n",
              "  'item': 'Cuaderno Forma Francesa Universitario Confeti 200h Pd 2 Pzas',\n",
              "  'item_count': '2',\n",
              "  'cost/unit': '150.00',\n",
              "  'cost': '300.00',\n",
              "  'URL': 'https://listado.mercadolibre.com.mx/cuaderno-200-hojas-francesa'},\n",
              " {'success': 'OK',\n",
              "  'item': 'Estrella RAYA 0080',\n",
              "  'item_count': '1',\n",
              "  'cost/unit': '113',\n",
              "  'cost': '113',\n",
              "  'URL': 'https://www.mercadolibre.com.mx/estrella-raya-0080-192-hojas-bond-unidad-x-1-215cm-x-16cm-estrella/p/MLM22673776'},\n",
              " {'success': 'Error',\n",
              "  'message': 'The price information is not provided in the text.',\n",
              "  'URL': 'https://www.abasteo.mx/Estrella-Libro-Florete-1-6-Rayado-96-Hojas-16-3x34-4cm.html'},\n",
              " {'success': 'failed',\n",
              "  'message': 'No price information found in the provided text.',\n",
              "  'URL': 'https://cuadros-comparativos.com/diferencia-entre-cuaderno-forma-francesa-e-italiana/'},\n",
              " {'error': 'Invalid data provided for extraction',\n",
              "  'URL': 'https://www.academia.edu/42903082/TESIS_Latinoam%C3%A9rica_la_presencia_del_barro_y_la_cer%C3%A1mica_en_la_escultura_LAURA_RUEDA_2019'}]"
            ]
          },
          "metadata": {},
          "execution_count": 21
        }
      ]
    },
    {
      "cell_type": "code",
      "source": [
        "json.dump(output_analysis, open(\"items_market.json\", 'w'))"
      ],
      "metadata": {
        "id": "PxZM3AhKzEmh"
      },
      "execution_count": 22,
      "outputs": []
    },
    {
      "cell_type": "code",
      "source": [],
      "metadata": {
        "id": "1XiZyDYW3Lxs"
      },
      "execution_count": null,
      "outputs": []
    }
  ]
}